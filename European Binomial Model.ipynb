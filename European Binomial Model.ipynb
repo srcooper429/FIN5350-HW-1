{
 "cells": [
  {
   "cell_type": "markdown",
   "metadata": {},
   "source": [
    "# European Binomial Model\n",
    "\n",
    "Below is the European Binomial Model built using object oriented programming. The model will run both put and call options. Below the model is running both a put and call option for the same spot, strike, rate, dividend, and expiry values as well as the number of steps."
   ]
  },
  {
   "cell_type": "code",
   "execution_count": 1,
   "metadata": {},
   "outputs": [
    {
     "name": "stdout",
     "output_type": "stream",
     "text": [
      "The price of the following call option is 7.07385326128\n",
      "The price of the following put option is 2.99850711674\n"
     ]
    }
   ],
   "source": [
    "import numpy as np\n",
    "from scipy.stats import binom\n",
    "\n",
    "class Option:\n",
    "    def __init__(self, strike, expiry):\n",
    "        self.strike = strike\n",
    "        self.expiry = expiry\n",
    "\n",
    "    def value(self):\n",
    "        pass\n",
    "\n",
    "class VanillaCallOption(Option):\n",
    "    def value(self, spot):\n",
    "        return np.maximum(0.0, spot - self.strike)\n",
    "\n",
    "class VanillaPutOption(Option):\n",
    "    def value(self, spot):\n",
    "        return np.maximum(0.0, self.strike - spot)\n",
    "\n",
    "def EuropeanBinomialPricer(option, spot, rate, volatility, dividend, steps):\n",
    "    numNodes = steps + 1\n",
    "    spotT = 0.0\n",
    "    putT = 0.0\n",
    "    dt = option.expiry / steps\n",
    "    u = np.exp(((rate - dividend) * dt) + volatility * np.sqrt(dt)) \n",
    "    d = np.exp(((rate - dividend) * dt) - volatility * np.sqrt(dt))\n",
    "    pu = (np.exp(rate*dt)-d)/(u-d)\n",
    "    \n",
    "    for i in range(numNodes):\n",
    "        spotT = spot * (u ** (steps - i)) * (d ** (i))\n",
    "        putT += option.value(spotT) * binom.pmf(steps - i, steps, pu)\n",
    "    price = putT * np.exp(-rate * option.expiry)\n",
    "\n",
    "    return price\n",
    "        \n",
    "spot = 41.0\n",
    "strike = 40.0\n",
    "rate = 0.08\n",
    "expiry = 1.0\n",
    "volatility = 0.30\n",
    "dividend = 0.0\n",
    "steps = 3\n",
    "\n",
    "theCall = VanillaCallOption(strike, expiry)\n",
    "CallPrice = EuropeanBinomialPricer(theCall, spot, rate, volatility, dividend, steps)\n",
    "\n",
    "thePut = VanillaPutOption(strike, expiry)\n",
    "PutPrice = EuropeanBinomialPricer(thePut, spot, rate, volatility, dividend, steps)\n",
    "\n",
    "print(\"The price of the following call option is\", CallPrice)\n",
    "print(\"The price of the following put option is\", PutPrice)"
   ]
  }
 ],
 "metadata": {
  "kernelspec": {
   "display_name": "Python 3",
   "language": "python",
   "name": "python3"
  },
  "language_info": {
   "codemirror_mode": {
    "name": "ipython",
    "version": 3
   },
   "file_extension": ".py",
   "mimetype": "text/x-python",
   "name": "python",
   "nbconvert_exporter": "python",
   "pygments_lexer": "ipython3",
   "version": "3.6.1"
  }
 },
 "nbformat": 4,
 "nbformat_minor": 2
}
