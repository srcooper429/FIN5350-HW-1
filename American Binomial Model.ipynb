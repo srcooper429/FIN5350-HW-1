{
 "cells": [
  {
   "cell_type": "markdown",
   "metadata": {},
   "source": [
    "# American Binomial Model"
   ]
  },
  {
   "cell_type": "code",
   "execution_count": 1,
   "metadata": {},
   "outputs": [
    {
     "name": "stdout",
     "output_type": "stream",
     "text": [
      "The price of the following call option is 7.07385326128\n",
      "The price of the following put option is 3.29294758539\n"
     ]
    }
   ],
   "source": [
    "import numpy as np\n",
    "\n",
    "class Option:\n",
    "    def __init__(self, strike, expiry):\n",
    "        self.strike = strike\n",
    "        self.expiry = expiry\n",
    "\n",
    "    def value(self):\n",
    "        pass\n",
    "\n",
    "class VanillaCallOption(Option):\n",
    "    def value(self, spot):\n",
    "        return np.maximum(0.0, spot - self.strike)\n",
    "\n",
    "class VanillaPutOption(Option):\n",
    "    def value(self, spot):\n",
    "        return np.maximum(0.0, self.strike - spot)\n",
    "\n",
    "def AmericanBinomialPricer(option, spot, rate, volatility, dividend, steps):\n",
    "    numNodes = steps + 1\n",
    "    dt = option.expiry / steps\n",
    "    u = np.exp(((rate - dividend) * dt) + volatility * np.sqrt(dt)) \n",
    "    d = np.exp(((rate - dividend) * dt) - volatility * np.sqrt(dt))\n",
    "    pu = (np.exp(rate*dt)-d)/(u-d)\n",
    "    pd = 1 - pu\n",
    "    \n",
    "    discount = np.exp(-rate * dt)\n",
    "    dpu = discount * pu\n",
    "    dpd = discount * pd\n",
    "    spotT = np.zeros(numNodes)\n",
    "    putT = np.zeros(numNodes)\n",
    "    \n",
    "    for i in range(numNodes):\n",
    "        spotT[i] = spot * (u ** (steps - i)) * (d ** i)\n",
    "        putT[i] += option.value(spotT[i])\n",
    "\n",
    "    for i in range((steps-1), -1, -1):\n",
    "        for j in range(i+1):\n",
    "            putT[j] = dpu * putT[j] + dpd * putT[j+1]\n",
    "            spotT[j] = spotT[j]/u\n",
    "            putT[j] = np.maximum(putT[j], option.value(spotT[j]))\n",
    "            \n",
    "    return putT[0]\n",
    "        \n",
    "spot = 41.0\n",
    "strike = 40.0\n",
    "rate = 0.08\n",
    "expiry = 1.0\n",
    "volatility = 0.30\n",
    "dividend = 0.0\n",
    "steps = 3\n",
    "\n",
    "theCall = VanillaCallOption(strike, expiry)\n",
    "CallPrice = AmericanBinomialPricer(theCall, spot, rate, volatility, dividend, steps)\n",
    "\n",
    "thePut = VanillaPutOption(strike, expiry)\n",
    "PutPrice = AmericanBinomialPricer(thePut, spot, rate, volatility, dividend, steps)\n",
    "\n",
    "print(\"The price of the following call option is\", CallPrice)\n",
    "print(\"The price of the following put option is\", PutPrice)"
   ]
  }
 ],
 "metadata": {
  "kernelspec": {
   "display_name": "Python 3",
   "language": "python",
   "name": "python3"
  },
  "language_info": {
   "codemirror_mode": {
    "name": "ipython",
    "version": 3
   },
   "file_extension": ".py",
   "mimetype": "text/x-python",
   "name": "python",
   "nbconvert_exporter": "python",
   "pygments_lexer": "ipython3",
   "version": "3.6.1"
  }
 },
 "nbformat": 4,
 "nbformat_minor": 2
}
