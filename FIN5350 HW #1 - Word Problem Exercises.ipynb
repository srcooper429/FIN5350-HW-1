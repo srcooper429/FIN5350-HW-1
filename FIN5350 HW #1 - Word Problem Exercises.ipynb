{
 "cells": [
  {
   "cell_type": "code",
   "execution_count": 4,
   "metadata": {},
   "outputs": [
    {
     "name": "stdout",
     "output_type": "stream",
     "text": [
      "A group of 124 volunteers is meeting up to search for Will Byers.\n",
      "The group is splitting into 4 equal teams.\n",
      "How many teams will there be?\n",
      "Press the Enter Key to find out.\n",
      "124 / 4 = 31.0\n"
     ]
    }
   ],
   "source": [
    "print(\"A group of 124 volunteers is meeting up to search for Will Byers.\") \n",
    "print(\"The group is splitting into 4 equal teams.\")\n",
    "print(\"How many teams will there be?\")\n",
    "input(\"Press the Enter Key to find out.\")\n",
    "print(\"124 / 4 =\", 124/4)"
   ]
  },
  {
   "cell_type": "code",
   "execution_count": 4,
   "metadata": {},
   "outputs": [
    {
     "name": "stdout",
     "output_type": "stream",
     "text": [
      "Daniel Plainview is hiring 13 new workers each day for three days on his oil rig.\n",
      "The rig started with 27 employees.\n",
      "How many employees will there be after the third day of hiring?\n",
      "Take a guess: 66\n",
      "Correct!\n"
     ]
    }
   ],
   "source": [
    "print(\"Daniel Plainview is hiring 13 new workers each day for three days on his oil rig.\")\n",
    "print(\"The rig started with 27 employees.\")\n",
    "print(\"How many employees will there be after the third day of hiring?\")\n",
    "answer = input(\"Take a guess: \")\n",
    "if int(answer) == 13*3+27:\n",
    "    print(\"Correct!\")\n",
    "else:\n",
    "    print(\"Wrong!!!!!!!!!\")\n",
    "    print(13*3+27)"
   ]
  },
  {
   "cell_type": "code",
   "execution_count": 4,
   "metadata": {},
   "outputs": [
    {
     "name": "stdout",
     "output_type": "stream",
     "text": [
      "Danny Ocean and his team are cleaning out the casino's safe.\n",
      "Before the heist, the safe contained 6.7 million dollars.\n",
      "If the team steals 5.9 million dollars, how many millions of dollars are left in the safe?\n",
      "Press the Enter Key to find out.\n",
      "6.7 - 5.9 = 0.7999999999999998\n"
     ]
    }
   ],
   "source": [
    "print(\"Danny Ocean and his team are cleaning out the casino's safe.\")\n",
    "print(\"Before the heist, the safe contained 6.7 million dollars.\")\n",
    "print(\"If the team steals 5.9 million dollars, how many millions of dollars are left in the safe?\")\n",
    "input(\"Press the Enter Key to find out.\")\n",
    "print(\"6.7 - 5.9 =\", 6.7-5.9)"
   ]
  },
  {
   "cell_type": "code",
   "execution_count": 5,
   "metadata": {},
   "outputs": [
    {
     "name": "stdout",
     "output_type": "stream",
     "text": [
      "Spike recently caught a bounty worth $750.\n",
      "Spike gets 45% of the bounty for making the catch, while Fey and Jet split the remainding 55%. \n",
      "How much will Jet collect on this bounty?\n",
      "Press Enter to see the answer:\n",
      "(.55 * 750)/2 = 206.25000000000003\n"
     ]
    }
   ],
   "source": [
    "print(\"Spike recently caught a bounty worth $750.\")\n",
    "print(\"Spike gets 45% of the bounty for making the catch, while Fey and Jet split the remainding 55%.\")\n",
    "print(\"How much will Jet collect on this bounty?\")\n",
    "input(\"Press Enter to see the answer:\")\n",
    "print(\"(.55 * 750)/2 =\", (.55 * 750)/2)"
   ]
  },
  {
   "cell_type": "code",
   "execution_count": 3,
   "metadata": {},
   "outputs": [
    {
     "name": "stdout",
     "output_type": "stream",
     "text": [
      "Abed buys 5 movies from the clearence section in Best Buy.\n",
      "Abed finds he only has $25 in his wallet.\n",
      "He is trying figure out what the average price per movie needs to be to get all 5.\n",
      "Enter an average price per movie to see if it is too expensive or if Abed can afford it: 4\n",
      "Buy 'em all!\n"
     ]
    }
   ],
   "source": [
    "print(\"Abed buys 5 movies from the clearence section in Best Buy.\")\n",
    "print(\"Abed finds he only has $25 in his wallet.\")\n",
    "print(\"He is trying figure out what the average price per movie needs to be to get all 5.\")\n",
    "guess = input(\"Enter an average price per movie to see if it is too expensive or if Abed can afford it: \")\n",
    "if int(guess) > 5:\n",
    "    print(\"Too Expensive\")\n",
    "else:\n",
    "    print(\"Buy 'em all!\")"
   ]
  }
 ],
 "metadata": {
  "kernelspec": {
   "display_name": "Python 3",
   "language": "python",
   "name": "python3"
  },
  "language_info": {
   "codemirror_mode": {
    "name": "ipython",
    "version": 3
   },
   "file_extension": ".py",
   "mimetype": "text/x-python",
   "name": "python",
   "nbconvert_exporter": "python",
   "pygments_lexer": "ipython3",
   "version": "3.6.1"
  }
 },
 "nbformat": 4,
 "nbformat_minor": 2
}
