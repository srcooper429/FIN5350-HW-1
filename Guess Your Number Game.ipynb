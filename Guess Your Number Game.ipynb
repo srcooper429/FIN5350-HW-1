{
 "cells": [
  {
   "cell_type": "markdown",
   "metadata": {},
   "source": [
    "# The Guess *Your* Number Game\n",
    "## Summary\n",
    "Creating a \"Guess My Number Game\" on Python is simple. The \"Guess Your Number Game\" is the opposite; the computer will try an guess a number that you are thinking of. It will record how many tries it takes to get your number.\n",
    "\n",
    "### Instructions\n",
    "- The number must be from 1 to 100\n",
    "- If your number is higher than what the computer guesses, type in 'higher'\n",
    "- If your number is lower than what the computer guesses, type in 'lower'\n",
    "- When the computer guesses correclty, type in 'correct'"
   ]
  },
  {
   "cell_type": "code",
   "execution_count": 1,
   "metadata": {},
   "outputs": [
    {
     "name": "stdout",
     "output_type": "stream",
     "text": [
      "Think of a number between 1 and 100\n",
      "\n",
      "I will guess what your number is, and you must tell me if your number is higher or lower\n",
      "when I guess your number, type in 'correct'\n",
      "\n",
      "\n",
      "Let's see how many tries it takes me...\n",
      "50\n",
      "lower\n",
      "25\n",
      "lower\n",
      "12\n",
      "lower\n",
      "6\n",
      "lower\n",
      "3\n",
      "correct\n",
      "Finally, I got it. It only took me, 5 tries.\n"
     ]
    }
   ],
   "source": [
    "print (\"Think of a number between 1 and 100\")\n",
    "print (\"\\nI will guess what your number is, and you must tell me if your number is higher or lower\")\n",
    "print (\"when I guess your number, type in 'correct'\")\n",
    "print(\"\\n\\nLet's see how many tries it takes me...\")\n",
    "\n",
    "ceiling = 100\n",
    "lower_floor = 0\n",
    "tries = 0\n",
    "solution = False\n",
    "\n",
    "while solution == False:\n",
    "    guess = ((ceiling+lower_floor)//2)\n",
    "    print(guess)\n",
    "    answer = input(str())\n",
    "    if answer == 'higher':\n",
    "        lower_floor = guess\n",
    "        tries += 1\n",
    "    elif answer == 'lower':\n",
    "        ceiling = guess\n",
    "        tries += 1\n",
    "    elif answer == 'correct':\n",
    "        solution = True\n",
    "        tries += 1\n",
    "print(\"Finally, I got it. It only took me,\", tries, \"tries.\")"
   ]
  }
 ],
 "metadata": {
  "kernelspec": {
   "display_name": "Python 3",
   "language": "python",
   "name": "python3"
  },
  "language_info": {
   "codemirror_mode": {
    "name": "ipython",
    "version": 3
   },
   "file_extension": ".py",
   "mimetype": "text/x-python",
   "name": "python",
   "nbconvert_exporter": "python",
   "pygments_lexer": "ipython3",
   "version": "3.6.1"
  }
 },
 "nbformat": 4,
 "nbformat_minor": 2
}
