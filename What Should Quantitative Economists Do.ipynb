{
 "cells": [
  {
   "cell_type": "markdown",
   "metadata": {},
   "source": [
    "# What Should Economists Do?\n",
    "\n",
    "### Introduction\n",
    "    In his famous essay “What Should Economists Do?” economist James Buchanan explores the shortcomings of economics as a science and presents ideas for reform. He emphasizes a move away from choice theory and a greater focus arbitrage. His call to economists was largely unheeded, and utilitarian choice models still dominate the field today. The purpose of this paper is to narrow the scope of Buchanan’s question to quantitative analysis in economics. In order to determine what quantitative economists should do, it is requisite to explore what is the current common practice in quantitative economics. It is also necessary to define what the market demands from economists. Understanding these two things allows for a discussion on how quantitative economists can best use their resources.\n",
    "\n",
    "### Economic Research Shortcomings\n",
    "    Utilitarian models still occupy a vast majority of economic research today. The models used in these articles often involve a high number of constraints and mathematical rigor based in calculus. Constraints are often employed as a means to a closed for solution. Such assumptions greatly diminish the applicability of such models and lose generality at the cost of convenience.\n",
    "    If the marginal cost of convenience is too great, perhaps economics should become a subset of mathematics. Buchanan posed such a solution, although not entirely seriously, that economics should be left to the mathematicians (Buchanan 1964). However, this argument may hold more weight than he thought. I believe the highly constrained optimization models are used so commonly in practice as a result of economic education. Mathematic requirements for an undergraduate degree in economics are painfully inadequate. Mathematicians would have the necessary skills to relax these constraints and produce more powerful models. However, economics is not purely a mathematical science and a certain level of critical thinking is required. Economic educators should seek to find a balance between the ability to build good models and being able to ask valuable questions and interpret data well. I personally feel my education experience has been unequally weighted towards critical thinking, costing me a level of proficiency in math that will be needful in graduate studies.\n",
    "    Besides the need for economic education reform, the field still suffers from assumptions that diminish predictive power and reduce that validity of economics as a science. Many economists are quick to acknowledge that rationality is not fully expected or believed in the real world, but that in the aggregate humans will behave rationally. The key issue is that this assumption is spread too thin. What I mean is that economists recognize the assumptions they are making, but still strive to claim causal results despite these limited parameters. Fischer Black discusses the problem with this in his paper “The Trouble with Econometric Models.” Economists commonly will imply causal results while avoiding explicitly saying they have. If economists are willing to acknowledge the large number of assumptions they are making, they should be willing to state their model is not generalized or strongly predictive. Of course, no economist has any incentive to do so.\n",
    "    It is also important to note the notoriously poor predictive power of economic models. This extends beyond common utilitarian theory as economics as a whole has had difficulty accurately predicting market trends. While there are many theoretical models that are valuable beyond they’re predictive ability, the market value for economic research is largely based on how well market trends can be forecasted. Even looking outside predictive power, the common tax-payer would hope their money is at least returning realistic results. Improving the applicability of economic research is necessary to validate and evolve economics as a useful social science.\n",
    "    If the shortcomings of economics stems from an emphasis on utilitarian theory, where should economists focus their efforts? In the narrower scope of this paper, I am specifically concerned with how quantitative analyses fit into an economist’s role. It is worth noting there is a belief that quantitative analysis is unnecessary in economic research. It could be argued economists should dedicate their resources towards essay based work and qualitative research. The Austrian school of economics has long focused on a more philosophical, essay based economics and has produced many great works. The quantitative analysis then could be applied specifically to finance where models are often more applicable to industry.\n",
    "    While finance research is valuable and necessary, there is a tangible research gap between finance and economics. Economics explores areas untouched by finance that need the support of quantitative analysis to build quality models. Essays and philosophical approaches to economic issues also have merit, but should not dominate a field based on something as volatile as human choice. Ultimately, a move away from quantitative analysis would reduce the credibility of economics.\n",
    "\n",
    "### Economic Experiment and Simulation\n",
    "    Quantitative economists can most effectively utilize their resources by increasing and improving experimentation and simulation in their research. Buchanan also suggested increased experimentation, noting the apparent lack of experiments in economics compared to other sciences (Buchanan 1964). Notable macroeconomist Robert E Lucas once stated, “It would be useful, though, if we could say something in a general way about the characteristics of social science prediction problems where models emphasizing adaptive aspects of behavior are likely to be successful versus those where the non-adaptive or equilibrium models of economic theory are more promising.” (Duffy 2006). I believe the catalyst to achieving these successful behavior models is in experimentation and simulation.\n",
    "    Simulation in economics is no new concept as the earliest experiments were conducted as early as the 1940s (Duffy 2006). However, the popularization of experiments and simulation has exponentially increased in the last thirty years (Tesfatsion 2017). While the number of simulation and experimental models are increasing, the market share of this research is still very low. It is here that I believe quantitative economics shows the most promise; in experimental practices using human subjects, agent-based computational economic research (ACE), and a combination of these disciplines. \n",
    "    Experiments and agent-based simulations are relatively young in the field of economics and are still evolving. Experimental economics is characterized by controlled settings in which experiments replicate real markets and incentive structures that market players may face. A good experiment in economics should follow the same criteria of that in other experimental fields. Namely, experiments should be generalizable, replicable, measurable, and follow standard sampling criteria. Experiments with human subjects have been practiced as early as 1948 (Plott 1982). Many early experiments served to confirm what choice theorists had been propagating since economics inception. Vernon Smith famously confirmed the law of competitive supply and demand whilst trying to disprove it in his early experiments. Critics may argue the confirmation Smith found is evidence theory is working and needs no reform. Smith’s work should be celebrated rather than disparaged. Similar replications done in the lab should and have continued. They can teach us where our theory errors. This is pertinent in any scientific discipline, but especially one as volatile and difficult to measure as economics.\n",
    "    Simulations have an even shorter history than experimental economics. The relatively new movement is termed agent-based computational economic research (ACE), in which subjects are synthetic programs designed to replicate real human behavior (Tesfatsion 2017). Agent-based modeling represents a movement away from utilitarian, closed-form solution models. ACE methodology originally arose from a frustration with highly constrained utility models. ACE researchers found these models to have little validity due to the high number of assumptions that were made and the low amount of variance allowed for the models’ parameters (Duffy 2006). As a result of this frustration, agent-based models often move in stark contrast to neoclassical theory where most simulations are built relaxing almost every constraint. While this is a move towards greater prediction power, I believe the extremity with which ACE models operate may at times be unnecessary and sacrifice some realism and simplicity in the models. This can be remedied, and has been, rather simply I think as is discussed in the later section of this paper.\n",
    "    Experimentation and simulation seem to be foundational research tools in almost every science outside of the social sciences. This does not need to be the case, nor should it be. As computation technology improves, it would be foolish and almost Luddite in nature to reject the opportunity to run experiments and simulations at a relatively low marginal cost. Economics has begun to accept these models into top research journals and simulation seems to be making some headway in the market.\n",
    "    If one can accept that simulation and experimentation is pertinent in economic research, there then arises a tradeoff discussion between human subjects and agent-based modeling. Each method has their own costs and benefits and drawing a strict line in comparing the efficiency and effectiveness of each methodology is near impossible. Benefits and costs for each modeling practice are examined below.\n",
    "\n",
    "### ACE Methodology\n",
    "    With ACE methodology, cost of repeat simulations is drastically reduced. This lower cost means simulations can be run at a higher frequency, and with a greater variety of parameterization. In other words, simulations can be easily adjusted to fit other parameters and run a variety of tests at a very low marginal cost. Agent-based models may also allow for sample characteristics that otherwise may not be possible.\n",
    "    There are several common objections to ACE methodology. One that was mentioned earlier is that simulation is just a tool to verify theory and should not be a practice in of itself. This objection is largely unfounded and stems from economists who prefer their mathematical finesse over predictive power. While these experiments are often extremely useful, as shown in Vernon Smith’s example above, theorists seem to suggest this is the only purpose agent-based modeling should be used for. Such rent-seeking behavior is detrimental to the progress of economics as a science and extends the gap of relatability a common consumer may have to economic research.\n",
    "    The most common, and perhaps founded, argument against simulation is the ability of simulation to model real behavior. Critics are quick to question the validity of simulations and suggest there is a gap between the model and the target properties. In his paper “A Plea for (Good) Simulations: Nudging Economics Toward an Experimental Science,” Julian Reiss points out other scientific practices contain the same types of tests which also lack perfectly shared properties with their targets. These models include laboratory reenactments, scale model testing, and animal testing (Reiss 2011). I believe Reiss is correct in assessing the hypocritical nature of this criticism. However, that does not necessarily validate simulation’s ability to model real behavior. \n",
    "\n",
    "### Experimental Models\n",
    "    Experimental economics has the benefit of real human choice. All the actors participating in the study will be the same type of actor the research is attempting to model. There are a number of variables that may be unseen or unknown when building an economic model that models human choice. Good experiments capture those unseen variables and strive to capture how humans behave in real market interactions.\n",
    "    Similar to simulations, the primary concern is in generalization. Human subjects will act differently simply because they know they are in the laboratory. This knowledge will, to some degree, effect the process by which they run each experiment or play each game. Even if test subjects behave normally, it is difficult to generalize a model well enough to draw prediction to real market interactions. Results returned from an experiment may only slightly model real human behavior.\n",
    "\n",
    "### Good Experiments and Simulations\n",
    "    ACE methodologists and experimental economists are well aware of the critiques against their methods and tests are performed to validate these models. It is becoming common practice for agent-based models to compare their results to some lab tests. It is considerably rarer for cross comparison to go the other way; validating human tests with computer based simulation (Duffy 2006). Both types of economists should validate their findings with concurrent simulations or experiments if feasible. These economists have at times also compared their results to historical data (Tesfatsion 2017). Comparisons to historical data – Historical analysis validates models’ performance by comparing to actual human choice outside of laboratory environments. Historical analysis may come at a high cost, but provides a background for which the model can be reasonably shown to have predictive power. When simulations and experiments are performed in conjuncture and proper comparisons are made to historical data, economic experimentation and simulation are powerful tools. This is the best avenue to move economics towards a better validated and valuable science. \n",
    "    While a large majority of simulations are being conducted under these parameters of cross comparison, there are other steps ACE researchers can take to further improve the methodology. In his paper “Agent-Based Models and Human Subject Experiments,” John Duffy calls for an increase in parallel studies using simulation and human subject as mentioned above. However, he also identifies two key ways to increase the accuracy of simulation based economics. These both stem from the idea that simulations should be based on laboratory results. Duffy’s first suggestion is an increase in simulations that seek to define how human subjects analyze the experimental environments they are exposed to in traditional experimental economics. If humans’ lab behavior is better understood, discrepancies between experiments, simulations, and historical data can be better analyzed and controlled for (Duffy 2006).\n",
    "    The second method that may improve accuracy in agent-based models is using what is known as the strategy method. The strategy method calls for subjects to specify the strategy they will use in the experiment or game before it begins. Each player decides this simultaneously. These types of experiments should then return results closer to those found in agent-based models. Duffy implies this will give a base foundation in which to build accurate simulations (Duffy 2006).\n",
    "    The ideas projected here have been implemented by some since Duffy’s paper was published in 2006. In general, simulation and experiments in economic research have been on the rise. But as Reiss points out, the percentage of papers using simulation is still drastically lower than the traditional neoclassical research which continues to dominate the field (Reiss 2011). What is needful is not as much a change in simulation, although improvements can always be made, but an increase in its use.\n",
    "\n",
    "### Conclusion\n",
    "    Economics has consistently implied causality whilst using highly constrained models in order to achieve closed form solutions. There clearly is a problem amongst economic research. The gap between what has market value and is applicable and what is being published is often wide. To increase predictive power of models and give validity to the field, an increase in simulation and experimentation is needed. This does not mean all research must be experimental as other fields of economics, including theory, have value in evolving the science. Economics is an extremely young science and must be given time to grow and develop. However, and increase in the number of experiments and simulations will improve the validity and applicability of economics."
   ]
  },
  {
   "cell_type": "markdown",
   "metadata": {},
   "source": [
    "## Bibliogrophy\n",
    "\n",
    "Buchanan, James. 1964. \"What Should Economists Do?\" Southern Economic Journal 213-222.\n",
    "\n",
    "Duffy, John. 2006. \"Agent-Based Models and Human Subject Experiments.\" In Handbook of Computational Economics Vol. 2, by Leigh \n",
    "\n",
    "Tesfatsion and Kenneth Judd, 949-1011. Elsevier.\n",
    "\n",
    "Plott, Charles. 1982. \"Industrial Organization Theory and Experimental Economics.\" Journal of Economic Literature 1485-1527.\n",
    "\n",
    "Reiss, Julian. 2011. \"A Plea for (Good) Simulations: Nudging Economics Toward and Experimental Science.\" Simulation & Gaming 243-264.\n",
    "\n",
    "Tesfatsion, Leigh. 2017. Agent-based Computational Economics (ACE). September 26. Accessed December 4, 2017. http://www2.econ.iastate.edu/tesfatsi/ace.htm."
   ]
  },
  {
   "cell_type": "code",
   "execution_count": null,
   "metadata": {
    "collapsed": true
   },
   "outputs": [],
   "source": []
  }
 ],
 "metadata": {
  "kernelspec": {
   "display_name": "Python 3",
   "language": "python",
   "name": "python3"
  },
  "language_info": {
   "codemirror_mode": {
    "name": "ipython",
    "version": 3
   },
   "file_extension": ".py",
   "mimetype": "text/x-python",
   "name": "python",
   "nbconvert_exporter": "python",
   "pygments_lexer": "ipython3",
   "version": "3.6.1"
  }
 },
 "nbformat": 4,
 "nbformat_minor": 2
}
