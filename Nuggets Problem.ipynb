{
 "cells": [
  {
   "cell_type": "markdown",
   "metadata": {},
   "source": [
    "# The Nuggets Problem\n",
    "## Summary\n",
    "Below is the Nuggets problem in which a consumer is faced with the option to buy nuggets in quantities of six, nine, or twenty. The objective is to **find the highest number of nuggets you _cannot_ buy** using the combination of each size of nugget meal. It may surprise you how low the number actually is..."
   ]
  },
  {
   "cell_type": "code",
   "execution_count": 1,
   "metadata": {},
   "outputs": [
    {
     "name": "stdout",
     "output_type": "stream",
     "text": [
      "The largest number of nuggests you cannot buy is 43\n"
     ]
    }
   ],
   "source": [
    "small = 6\n",
    "consecutive_count = 0\n",
    "solution = 5\n",
    "candidate = small\n",
    "\n",
    "def is_nugget_number(candidate, small = 6, medium = 9, large = 20):\n",
    "    for i in range(candidate//small + 1):\n",
    "        for j in range(candidate//medium + 1):\n",
    "            for k in range(candidate//large + 1):\n",
    "                if(small*i + medium*j + large*k == candidate):\n",
    "                    return True\n",
    "\n",
    "while consecutive_count != small:\n",
    "    if(is_nugget_number(candidate)):\n",
    "        consecutive_count += 1\n",
    "    else:\n",
    "        solution = candidate\n",
    "        consecutive_count = 0 \n",
    "    candidate += 1\n",
    "        \n",
    "print(\"The largest number of nuggests you cannot buy is\", solution)"
   ]
  }
 ],
 "metadata": {
  "kernelspec": {
   "display_name": "Python 3",
   "language": "python",
   "name": "python3"
  },
  "language_info": {
   "codemirror_mode": {
    "name": "ipython",
    "version": 3
   },
   "file_extension": ".py",
   "mimetype": "text/x-python",
   "name": "python",
   "nbconvert_exporter": "python",
   "pygments_lexer": "ipython3",
   "version": "3.6.1"
  }
 },
 "nbformat": 4,
 "nbformat_minor": 2
}
